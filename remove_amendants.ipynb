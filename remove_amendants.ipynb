{
 "cells": [
  {
   "cell_type": "code",
   "execution_count": 10,
   "metadata": {},
   "outputs": [
    {
     "name": "stderr",
     "output_type": "stream",
     "text": [
      "100%|██████████| 545/545 [00:00<00:00, 3758.65it/s]\n"
     ]
    }
   ],
   "source": [
    "import glob\n",
    "import re\n",
    "from tqdm import tqdm\n",
    "from pathlib import Path\n",
    "import os\n",
    "\n",
    "files = [f for f in glob.glob('ustawy2/*.txt')]\n",
    "\n",
    "for filename in tqdm(files):\n",
    "    fname = Path(filename).stem\n",
    "    reg = []\n",
    "    with open(filename, encoding='UTF-8') as f:\n",
    "        t = f.read()\n",
    "        # reg = re.findall(r'USTAWA.*\\n.*\\n.*\\n.*o zmianie', t)\n",
    "        # reg = re.findall(r'USTAWA.*\\n.*\\n.*\\n.*\\n.*o zmianie', t)\n",
    "        # reg = re.findall(r'U S T A W A.*\\n.*\\n.*\\n.*\\n.*o zmianie', t)\n",
    "        # reg = re.findall(r'U S T A W A.*\\n.*\\n.*\\n.*o zmianie', t)\n",
    "        reg = re.findall(r'U S T A W A.*\\n.*\\n.*o zmianie', t)\n",
    "    if len(reg) > 0:\n",
    "        os.remove(filename)\n",
    "        # print(reg)\n",
    "        # print(t)\n",
    "\n",
    "    # break\n",
    "\n",
    "# print(files)\n"
   ]
  }
 ],
 "metadata": {
  "interpreter": {
   "hash": "9803f0d84e27d84922352b871dc6f8a97b2f410bab3ee2a8601fd4fdc3d7350c"
  },
  "kernelspec": {
   "display_name": "Python 3.8.12 64-bit ('nlp': conda)",
   "language": "python",
   "name": "python3"
  },
  "language_info": {
   "codemirror_mode": {
    "name": "ipython",
    "version": 3
   },
   "file_extension": ".py",
   "mimetype": "text/x-python",
   "name": "python",
   "nbconvert_exporter": "python",
   "pygments_lexer": "ipython3",
   "version": "3.8.12"
  },
  "orig_nbformat": 4
 },
 "nbformat": 4,
 "nbformat_minor": 2
}
