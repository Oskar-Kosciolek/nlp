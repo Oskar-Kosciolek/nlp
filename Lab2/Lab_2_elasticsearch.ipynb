{
 "cells": [
  {
   "cell_type": "code",
   "execution_count": 1,
   "metadata": {},
   "outputs": [],
   "source": [
    "from datetime import datetime\n",
    "from elasticsearch import Elasticsearch\n",
    "import os \n",
    "import glob\n",
    "import pprint"
   ]
  },
  {
   "cell_type": "markdown",
   "metadata": {},
   "source": [
    "1. Install ElasticSearch (ES).\n",
    "2. Install an ES plugin for Polish https://github.com/allegro/elasticsearch-analysis-morfologik"
   ]
  },
  {
   "cell_type": "code",
   "execution_count": 2,
   "metadata": {},
   "outputs": [],
   "source": [
    "es = Elasticsearch('http://localhost:9200')\n",
    "es.info()"
   ]
  },
  {
   "cell_type": "markdown",
   "metadata": {},
   "source": [
    "3. Define an ES analyzer for Polish texts containing:\n",
    "    - standard tokenizer\n",
    "    - synonym filter with the following definitions:\\\n",
    "        a. kpk - kodeks postępowania karnego\\\n",
    "        b. kpc - kodeks postępowania cywilnego\\\n",
    "        c. kk - kodeks karny\\\n",
    "        d. kc - kodeks cywilny\n",
    "    - Morfologik-based lemmatizer\n",
    "    - lowercase filter\n",
    "<br><br>\n",
    "4. Define an ES index for storing the contents of the legislative acts."
   ]
  },
  {
   "cell_type": "code",
   "execution_count": null,
   "metadata": {},
   "outputs": [],
   "source": [
    "# Old index\n",
    "es.indices.create(\n",
    "    index = 'my_index',\n",
    "    body = {\n",
    "    \"settings\": {\n",
    "        \"index\": {\n",
    "            \"analysis\": {\n",
    "                \"tokenizer\": \"standard\",\n",
    "                \"filter\": {\n",
    "                    \"kodeks_synonym_filter\": {\n",
    "                        \"type\": \"synonym\",\n",
    "                        \"synonyms\": [\n",
    "                            \"kpk => kodeks postępowania karnego\",\n",
    "                            \"kpc => kodeks postępowania cywilnego\",\n",
    "                            \"kk => kodeks karny\",\n",
    "                            \"kc => kodeks cywilny\",\n",
    "                        ]\n",
    "                    }\n",
    "                },\n",
    "                \"analyzer\": \"morfologik\",\n",
    "            }\n",
    "        }\n",
    "    }\n",
    "})\n"
   ]
  },
  {
   "cell_type": "code",
   "execution_count": null,
   "metadata": {},
   "outputs": [],
   "source": [
    "# Index with analyzer\n",
    "es.indices.create(\n",
    "    index='my_index13',\n",
    "    body={\n",
    "        \"settings\": {\n",
    "            \"index\": {\n",
    "                \"analysis\": {\n",
    "                    \"filter\": {\n",
    "                        \"kodeks_synonym_filter\": {\n",
    "                            \"type\": \"synonym\",\n",
    "                            \"synonyms\": [\n",
    "                                \"kpk => kodeks postępowania karnego\",\n",
    "                                \"kpc => kodeks postępowania cywilnego\",\n",
    "                                \"kk => kodeks karny\",\n",
    "                                \"kc => kodeks cywilny\",\n",
    "                            ]\n",
    "                        }\n",
    "                    },\n",
    "                    \"analyzer\": {\n",
    "                        \"default\": {\n",
    "                            \"type\": \"custom\",\n",
    "                            \"tokenizer\": \"standard\",\n",
    "                            \"filter\": [\"kodeks_synonym_filter\", \"morfologik_stem\", \"lowercase\"]\n",
    "                        }\n",
    "                    }\n",
    "                }\n",
    "            }\n",
    "        },\n",
    "        \"mappings\": {\n",
    "            \"properties\": {\n",
    "                \"act\": {\n",
    "                    \"type\": \"text\",\n",
    "                    \"term_vector\": \"with_positions_offsets\"\n",
    "                }\n",
    "            }\n",
    "        }\n",
    "    })"
   ]
  },
  {
   "cell_type": "code",
   "execution_count": 21,
   "metadata": {},
   "outputs": [
    {
     "name": "stderr",
     "output_type": "stream",
     "text": [
      "<ipython-input-21-6bdfabe5227b>:2: DeprecationWarning: Using positional arguments for APIs is deprecated and will be disabled in 8.0.0. Instead use only keyword arguments for all APIs. See https://github.com/elastic/elasticsearch-py/issues/1698 for more information\n",
      "  es.indices.analyze(\n"
     ]
    },
    {
     "data": {
      "text/plain": [
       "{'tokens': [{'token': 'ustawa',\n",
       "   'start_offset': 0,\n",
       "   'end_offset': 6,\n",
       "   'type': '<ALPHANUM>',\n",
       "   'position': 0},\n",
       "  {'token': 'ustawa',\n",
       "   'start_offset': 8,\n",
       "   'end_offset': 14,\n",
       "   'type': '<ALPHANUM>',\n",
       "   'position': 1},\n",
       "  {'token': 'ustawa',\n",
       "   'start_offset': 16,\n",
       "   'end_offset': 21,\n",
       "   'type': '<ALPHANUM>',\n",
       "   'position': 2},\n",
       "  {'token': 'ustawić',\n",
       "   'start_offset': 16,\n",
       "   'end_offset': 21,\n",
       "   'type': '<ALPHANUM>',\n",
       "   'position': 2},\n",
       "  {'token': 'ustawa',\n",
       "   'start_offset': 23,\n",
       "   'end_offset': 31,\n",
       "   'type': '<ALPHANUM>',\n",
       "   'position': 3},\n",
       "  {'token': 'kodeks',\n",
       "   'start_offset': 33,\n",
       "   'end_offset': 35,\n",
       "   'type': 'SYNONYM',\n",
       "   'position': 4},\n",
       "  {'token': 'cywilny',\n",
       "   'start_offset': 36,\n",
       "   'end_offset': 39,\n",
       "   'type': 'SYNONYM',\n",
       "   'position': 5},\n",
       "  {'token': 'kodeks',\n",
       "   'start_offset': 36,\n",
       "   'end_offset': 39,\n",
       "   'type': 'SYNONYM',\n",
       "   'position': 5},\n",
       "  {'token': 'i tak dalej',\n",
       "   'start_offset': 40,\n",
       "   'end_offset': 43,\n",
       "   'type': '<ALPHANUM>',\n",
       "   'position': 6},\n",
       "  {'token': 'postępowanie',\n",
       "   'start_offset': 40,\n",
       "   'end_offset': 43,\n",
       "   'type': 'SYNONYM',\n",
       "   'position': 6},\n",
       "  {'token': 'postępować',\n",
       "   'start_offset': 40,\n",
       "   'end_offset': 43,\n",
       "   'type': 'SYNONYM',\n",
       "   'position': 6},\n",
       "  {'token': 'cywilny',\n",
       "   'start_offset': 40,\n",
       "   'end_offset': 43,\n",
       "   'type': 'SYNONYM',\n",
       "   'position': 7}]}"
      ]
     },
     "execution_count": 21,
     "metadata": {},
     "output_type": "execute_result"
    }
   ],
   "source": [
    "# Test index (check if synonyms and lemmatization work fine)\n",
    "es.indices.analyze(\n",
    "    {\n",
    "        \"text\": \"ustawa, ustawy, ustaw, ustawami, kc kpc itd\"\n",
    "    },\n",
    "    \"my_index13\"\n",
    ")"
   ]
  },
  {
   "cell_type": "markdown",
   "metadata": {},
   "source": [
    "5. Load the data to the ES index."
   ]
  },
  {
   "cell_type": "code",
   "execution_count": null,
   "metadata": {},
   "outputs": [],
   "source": [
    "# For those without mapping [?]\n",
    "for file in glob.glob('../ustawy/*'):\n",
    "    fname = os.path.basename(file)\n",
    "    with open(file, encoding='UTF-8') as f:\n",
    "        text = f.read()\n",
    "        es.create(\n",
    "            index=\"my_index13\",\n",
    "            id=fname,\n",
    "            body={\"text\": text},\n",
    "            doc_type=\"act\"\n",
    "        )"
   ]
  },
  {
   "cell_type": "code",
   "execution_count": 60,
   "metadata": {},
   "outputs": [
    {
     "name": "stderr",
     "output_type": "stream",
     "text": [
      "<ipython-input-60-12e424add7ce>:6: DeprecationWarning: The 'body' parameter is deprecated for the 'create' API and will be removed in a future version. Instead use the 'document' parameter. See https://github.com/elastic/elasticsearch-py/issues/1698 for more information\n",
      "  es.create(\n"
     ]
    }
   ],
   "source": [
    "for file in glob.glob('../ustawy/*'):\n",
    "    fname = os.path.basename(file)\n",
    "    with open(file, encoding='UTF-8') as f:\n",
    "        text = f.read()\n",
    "        es.create(\n",
    "            index=\"my_index13\",\n",
    "            id=fname,\n",
    "            body={\"text\": text},\n",
    "        )"
   ]
  },
  {
   "cell_type": "markdown",
   "metadata": {},
   "source": [
    "6. Determine the number of legislative acts containing the word ustawa (in any form)."
   ]
  },
  {
   "cell_type": "code",
   "execution_count": 22,
   "metadata": {},
   "outputs": [
    {
     "name": "stderr",
     "output_type": "stream",
     "text": [
      "<ipython-input-22-e7cfe6d0d02c>:1: DeprecationWarning: The 'body' parameter is deprecated for the 'search' API and will be removed in a future version. Instead use API parameters directly. See https://github.com/elastic/elasticsearch-py/issues/1698 for more information\n",
      "  containing_ustawa = es.search(\n"
     ]
    },
    {
     "data": {
      "text/plain": [
       "1178"
      ]
     },
     "execution_count": 22,
     "metadata": {},
     "output_type": "execute_result"
    }
   ],
   "source": [
    "containing_ustawa = es.search(\n",
    "    body={\n",
    "        \"query\": {\n",
    "            \"match\": {\n",
    "                \"text\": {\n",
    "                    \"query\": \"ustawa\"\n",
    "                }\n",
    "            }\n",
    "        }\n",
    "    },\n",
    "    index=\"my_index10\",\n",
    ")\n",
    "containing_ustawa[\"hits\"][\"total\"][\"value\"]"
   ]
  },
  {
   "cell_type": "markdown",
   "metadata": {},
   "source": [
    "7. Determine the number of occurrences of the word ustawa by searching for this particular form, including the other inflectional forms."
   ]
  },
  {
   "cell_type": "code",
   "execution_count": 7,
   "metadata": {},
   "outputs": [],
   "source": [
    "# Preapre IDs array to search every file (not needed for termvectors).\n",
    "IDs = []\n",
    "for file in glob.glob('../ustawy/*'):\n",
    "    fname = os.path.basename(file)\n",
    "    IDs.append(fname)"
   ]
  },
  {
   "cell_type": "code",
   "execution_count": 8,
   "metadata": {},
   "outputs": [],
   "source": [
    "# zrun termvectors once. Then we can get needed inforamtion from results.\n",
    "ID = '1993_645.txt'\n",
    "vector = es.termvectors(\n",
    "    index=\"my_index13\",\n",
    "    id=ID,\n",
    "    fields=\"text\",\n",
    "    term_statistics=True\n",
    ")"
   ]
  },
  {
   "cell_type": "code",
   "execution_count": 23,
   "metadata": {},
   "outputs": [
    {
     "name": "stdout",
     "output_type": "stream",
     "text": [
      "24934\n"
     ]
    }
   ],
   "source": [
    "try:\n",
    "    print(vector['term_vectors']['text']['terms']['ustawa']['ttf'])\n",
    "except KeyError :\n",
    "    print(\"Word not found.\")"
   ]
  },
  {
   "cell_type": "markdown",
   "metadata": {},
   "source": [
    "8. Determine the number of occurrences of the word ustaw by searching for this particular form, including the other inflectional forms."
   ]
  },
  {
   "cell_type": "code",
   "execution_count": 24,
   "metadata": {},
   "outputs": [
    {
     "name": "stdout",
     "output_type": "stream",
     "text": [
      "Word not found.\n"
     ]
    }
   ],
   "source": [
    "try:\n",
    "    print(vector['term_vectors']['text']['terms']['ustaw']['ttf'])\n",
    "except KeyError :\n",
    "    print(\"Word not found.\")\n"
   ]
  },
  {
   "cell_type": "code",
   "execution_count": null,
   "metadata": {},
   "outputs": [],
   "source": [
    "# Search query, but searches only for files.\n",
    "es.search(\n",
    "    index=\"my_index13\",\n",
    "    body={\n",
    "        \"query\": {\n",
    "            \"match\": {\n",
    "                \"text\": {\n",
    "                    \"query\": \"ustawa\",\n",
    "                }\n",
    "            }\n",
    "        },\n",
    "    }\n",
    ")"
   ]
  },
  {
   "cell_type": "markdown",
   "metadata": {},
   "source": [
    "Can't search for words."
   ]
  },
  {
   "cell_type": "code",
   "execution_count": null,
   "metadata": {},
   "outputs": [],
   "source": [
    "es.search(\n",
    "    index=\"my_index13\",\n",
    "    query={\n",
    "        \"query_string\": {\n",
    "            \"query\": \"ustaw\"\n",
    "        }\n",
    "    }\n",
    ")"
   ]
  },
  {
   "cell_type": "markdown",
   "metadata": {},
   "source": [
    "9.  Determine the number of legislative acts containing the words kodeks postępowania cywilnego in the specified order, but in any inflection form."
   ]
  },
  {
   "cell_type": "code",
   "execution_count": 28,
   "metadata": {},
   "outputs": [
    {
     "name": "stderr",
     "output_type": "stream",
     "text": [
      "<ipython-input-28-3c3b49924486>:1: DeprecationWarning: The 'body' parameter is deprecated for the 'search' API and will be removed in a future version. Instead use API parameters directly. See https://github.com/elastic/elasticsearch-py/issues/1698 for more information\n",
      "  es.search(\n"
     ]
    },
    {
     "data": {
      "text/plain": [
       "99"
      ]
     },
     "execution_count": 28,
     "metadata": {},
     "output_type": "execute_result"
    }
   ],
   "source": [
    "es.search(\n",
    "    index=\"my_index13\",\n",
    "    body={\n",
    "        \"query\": {\n",
    "            \"match_phrase\": {\n",
    "                \"text\": {\n",
    "                    \"query\": \"kodeks postępowania cywilnego\"\n",
    "                }\n",
    "            }\n",
    "        }\n",
    "    }\n",
    ")[\"hits\"][\"total\"][\"value\"]"
   ]
  },
  {
   "cell_type": "markdown",
   "metadata": {},
   "source": [
    "10. Determine the number of legislative acts containing the words wchodzi w życie (in any form) allowing for up to 2 additional words in the searched phrase.\n"
   ]
  },
  {
   "cell_type": "code",
   "execution_count": 15,
   "metadata": {},
   "outputs": [
    {
     "name": "stderr",
     "output_type": "stream",
     "text": [
      "<ipython-input-15-47b31e66faae>:1: DeprecationWarning: The 'body' parameter is deprecated for the 'search' API and will be removed in a future version. Instead use API parameters directly. See https://github.com/elastic/elasticsearch-py/issues/1698 for more information\n",
      "  es.search(\n"
     ]
    },
    {
     "data": {
      "text/plain": [
       "1174"
      ]
     },
     "execution_count": 15,
     "metadata": {},
     "output_type": "execute_result"
    }
   ],
   "source": [
    "es.search(\n",
    "    index=\"my_index13\",\n",
    "    body={\n",
    "        \"query\": {\n",
    "            \"match_phrase\": {\n",
    "                \"text\": {\n",
    "                    \"query\": \"wchodzi w życie\",\n",
    "                    \"slop\": 2\n",
    "                }\n",
    "            }\n",
    "        }\n",
    "    }\n",
    ")[\"hits\"][\"total\"][\"value\"]"
   ]
  },
  {
   "cell_type": "markdown",
   "metadata": {},
   "source": [
    "11. Determine the 10 documents that are the most relevant for the phrase konstytucja."
   ]
  },
  {
   "cell_type": "code",
   "execution_count": 29,
   "metadata": {},
   "outputs": [
    {
     "name": "stderr",
     "output_type": "stream",
     "text": [
      "<ipython-input-29-d5186e05ad64>:1: DeprecationWarning: The 'body' parameter is deprecated for the 'search' API and will be removed in a future version. Instead use API parameters directly. See https://github.com/elastic/elasticsearch-py/issues/1698 for more information\n",
      "  konstytucja = es.search(\n"
     ]
    },
    {
     "data": {
      "text/plain": [
       "(['1997_629.txt',\n",
       "  '2000_443.txt',\n",
       "  '1997_604.txt',\n",
       "  '1996_350.txt',\n",
       "  '1997_642.txt',\n",
       "  '2001_23.txt',\n",
       "  '1996_199.txt',\n",
       "  '1999_688.txt',\n",
       "  '1997_681.txt',\n",
       "  '2001_1082.txt'],\n",
       " [6.869184,\n",
       "  6.663479,\n",
       "  6.632288,\n",
       "  6.6273947,\n",
       "  6.2522817,\n",
       "  6.056855,\n",
       "  5.9267144,\n",
       "  5.848894,\n",
       "  5.4653444,\n",
       "  5.4653444])"
      ]
     },
     "execution_count": 29,
     "metadata": {},
     "output_type": "execute_result"
    }
   ],
   "source": [
    "konstytucja = es.search(\n",
    "    index=\"my_index13\",\n",
    "    body={\n",
    "        \"query\": {\n",
    "            \"match\": {\n",
    "                \"text\": {\n",
    "                    \"query\": \"konstytucja\",\n",
    "                }\n",
    "            }\n",
    "        },\n",
    "        \"highlight\": {\n",
    "            \"fields\": {\n",
    "                \"text\": {}\n",
    "            },\n",
    "            \"number_of_fragments\": 3\n",
    "        }\n",
    "    },\n",
    "    sort=\"_score\",\n",
    "    size=\"10\"\n",
    ")[\"hits\"][\"hits\"]\n",
    "\n",
    "best_scores = [d['_score'] for d in konstytucja]\n",
    "best_ids = [d['_id'] for d in konstytucja]\n",
    "best_ids, best_scores"
   ]
  },
  {
   "cell_type": "markdown",
   "metadata": {},
   "source": [
    "12. Print the excerpts containing the word konstytucja (up to three excerpts per document) from the previous task."
   ]
  },
  {
   "cell_type": "code",
   "execution_count": 30,
   "metadata": {},
   "outputs": [
    {
     "name": "stdout",
     "output_type": "stream",
     "text": [
      "[{'text': ['o zmianie ustawy konstytucyjnej o trybie przygotowania\\n'\n",
      "           '           i uchwalenia <em>Konstytucji</em> Rzeczypospolitej',\n",
      "           'W ustawie  konstytucyjnej z  dnia 23 kwietnia 1992 r. o trybie '\n",
      "           'przygotowania i \\n'\n",
      "           'uchwalenia <em>Konstytucji</em>',\n",
      "           'Do zgłoszenia projektu <em>Konstytucji</em> załącza się wykaz \\n'\n",
      "           '                obywateli popierających zgłoszenie']},\n",
      " {'text': ['umowy międzynarodowej i nie wypełnia przesłanek określonych w art. '\n",
      "           '89\\n'\n",
      "           '     ust. 1 lub art. 90 <em>Konstytucji</em>',\n",
      "           'międzynarodowej lub załącznika nie\\n'\n",
      "           '     wypełnia przesłanek określonych w art. 89 ust. 1 lub art. 90 '\n",
      "           '<em>Konstytucji</em>',\n",
      "           'co do zasadności wyboru\\n'\n",
      "           '  trybu ratyfikacji umowy międzynarodowej, o którym mowa w art. 89 '\n",
      "           'ust. 2\\n'\n",
      "           '  <em>Konstytucji</em>']},\n",
      " {'text': ['Jeżeli Trybunał Konstytucyjny wyda orzeczenie o sprzeczności celów '\n",
      "           'partii \\n'\n",
      "           '   politycznej z <em>Konstytucją</em>',\n",
      "           'Jeżeli Trybunał Konstytucyjny wyda orzeczenie o sprzeczności z '\n",
      "           '<em>Konstytucją</em>\\n'\n",
      "           '   celów lub działalności',\n",
      "           'Ciężar udowodnienia niezgodności z <em>Konstytucją</em> spoczywa\\n'\n",
      "           '                na wnioskodawcy, który w tym']},\n",
      " {'text': ['Za naruszenie <em>Konstytucji</em> lub ustawy, w związku z '\n",
      "           'zajmowanym\\n'\n",
      "           '              stanowiskiem lub w zakresie',\n",
      "           'W zakresie określonym w art. 107 <em>Konstytucji</em> '\n",
      "           'odpowiedzialność przed\\n'\n",
      "           '           Trybunałem Stanu ponoszą',\n",
      "           'Członkowie Rady Ministrów ponoszą odpowiedzialność przed '\n",
      "           'Trybunałem\\n'\n",
      "           '           Stanu za naruszenie <em>Konstytucji</em>']},\n",
      " {'text': ['wnioskami o:\\n'\n",
      "           '             1) stwierdzenie zgodności ustaw i umów '\n",
      "           'międzynarodowych z\\n'\n",
      "           '               <em>Konstytucją</em>',\n",
      "           'stwierdzenie zgodności przepisów prawa wydawanych przez\\n'\n",
      "           '               centralne organy państwowe, z <em>Konstytucją</em>',\n",
      "           'ratyfikowanymi\\n'\n",
      "           '               umowami międzynarodowymi i ustawami,\\n'\n",
      "           '             4) stwierdzenie zgodności z <em>Konstytucją</em>']},\n",
      " {'text': ['W Dzienniku Ustaw Rzeczypospolitej Polskiej, zwanym dalej '\n",
      "           '\"Dziennikiem\\n'\n",
      "           '  Ustaw\", ogłasza się:\\n'\n",
      "           '   1) <em>Konstytucję</em>',\n",
      "           'akty prawne dotyczące:\\n'\n",
      "           '   1) stanu wojny i zawarcia pokoju,\\n'\n",
      "           '   2) referendum zatwierdzającego zmianę <em>Konstytucji</em>',\n",
      "           'ministra, któremu Sejm wyraził wotum nieufności,\\n'\n",
      "           '     h) powoływania lub odwoływania na określone w '\n",
      "           '<em>Konstytucji</em>']},\n",
      " {'text': ['2c i art. 9-11 ustawy konstytucyjnej z dnia 23 kwietnia \\n'\n",
      "           '1992 r. o trybie przygotowania i uchwalenia <em>Konstytucji</em>',\n",
      "           'Prezydent Rzeczypospolitej Polskiej zarządza poddanie '\n",
      "           '<em>Konstytucji</em> pod referendum\\n'\n",
      "           '   w trybie określonym',\n",
      "           'Przyjęcie w referendum <em>Konstytucji</em> następuje wówczas, gdy '\n",
      "           'opowiedziała \\n'\n",
      "           '   się za nią większość biorących']},\n",
      " {'text': ['postępowania w sprawie wykonywania inicjatywy\\n'\n",
      "           'ustawodawczej przez obywateli, o której mowa w art. 118 ust. 2 '\n",
      "           '<em>Konstytucji</em>',\n",
      "           'Projekt ustawy nie może dotyczyć spraw, dla których '\n",
      "           '<em>Konstytucja</em>\\n'\n",
      "           'Rzeczypospolitej Polskiej zastrzega wyłączną',\n",
      "           'Projekt ustawy wniesiony do Marszałka Sejmu powinien odpowiadać '\n",
      "           'wymogom\\n'\n",
      "           '  zawartym w <em>Konstytucji</em> i Regulaminie']},\n",
      " {'text': ['Rzecznik Praw Dziecka, zwany dalej Rzecznikiem, stoi na straży '\n",
      "           'praw dziecka\\n'\n",
      "           '  określonych w <em>Konstytucji</em>',\n",
      "           'uroczyście, że przy wykonywaniu powierzonych mi obowiązków\\n'\n",
      "           '     Rzecznika Praw Dziecka dochowam wierności '\n",
      "           '<em>Konstytucji</em>']},\n",
      " {'text': ['Krajowa Rada Sądownictwa, zwana dalej \"Radą\", realizuje cele '\n",
      "           'określone w\\n'\n",
      "           '  <em>Konstytucji</em> Rzeczypospolitej',\n",
      "           ') podejmuje uchwały w sprawach wystąpienia do Trybunału '\n",
      "           'Konstytucyjnego o\\n'\n",
      "           '     zbadanie zgodności z <em>Konstytucją</em>']}]\n"
     ]
    }
   ],
   "source": [
    "best_highlight = [d['highlight'] for d in konstytucja]\n",
    "pprint.pprint(best_highlight)"
   ]
  }
 ],
 "metadata": {
  "interpreter": {
   "hash": "079b5c6be845f93ba7bcd2caf1b36ad83315832336c1c302a518db71738f7e6f"
  },
  "kernelspec": {
   "display_name": "Python 3.8.5 64-bit ('base': conda)",
   "name": "python3"
  },
  "language_info": {
   "codemirror_mode": {
    "name": "ipython",
    "version": 3
   },
   "file_extension": ".py",
   "mimetype": "text/x-python",
   "name": "python",
   "nbconvert_exporter": "python",
   "pygments_lexer": "ipython3",
   "version": "3.8.5"
  },
  "orig_nbformat": 4
 },
 "nbformat": 4,
 "nbformat_minor": 2
}
